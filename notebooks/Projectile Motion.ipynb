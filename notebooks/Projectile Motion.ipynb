{
 "cells": [
  {
   "cell_type": "code",
   "execution_count": 1,
   "metadata": {
    "collapsed": true
   },
   "outputs": [],
   "source": [
    "%matplotlib inline"
   ]
  },
  {
   "cell_type": "markdown",
   "metadata": {},
   "source": [
    "# Projectile Motion"
   ]
  },
  {
   "cell_type": "markdown",
   "metadata": {},
   "source": [
    "By this point, you've mastered the nuances of constant-acceleration motion in one dimension. You've wrapped your head around the differences between scalar and vector quantities, you laugh at trigonometry, and you're a whiz with vector algebra. Now what?\n",
    "\n",
    "_We combine the ideas of constant-acceleration motion with vector algebra to see what the world is like when things don't simply move in straight lines._"
   ]
  },
  {
   "cell_type": "markdown",
   "metadata": {},
   "source": [
    "In order to make this conceptual leap, we need to talk about __parameterization__. "
   ]
  },
  {
   "cell_type": "markdown",
   "metadata": {},
   "source": [
    "One of the first things we learn when we take algebra is how to visualize the relationship between two variables on a graph. Specifically, the first relationship we study is a __linear function__. A linear function $y(x)$ can be written in the form:\n",
    "\n",
    "$$ y = mx + b $$\n",
    "\n",
    "... where $m$ represents the slope of the graph, and $b$ its y-intercept. For example, the graph of the function $y = 2x -4$ is shown below."
   ]
  },
  {
   "cell_type": "code",
   "execution_count": 23,
   "metadata": {
    "collapsed": false
   },
   "outputs": [
    {
     "data": {
      "image/png": "[encoded data removed]",
      "text/plain": [
       "<matplotlib.figure.Figure at 0x108ca9470>"
      ]
     },
     "metadata": {},
     "output_type": "display_data"
    }
   ],
   "source": [
    "import matplotlib.pyplot as plt\n",
    "import numpy as np\n",
    "\n",
    "x = np.linspace(-5,5,11)\n",
    "y = 2*x - 4\n",
    "\n",
    "fig, ax = plt.subplots()\n",
    "ax.grid(True, which='both')\n",
    "\n",
    "plt.xlim(-1,5)\n",
    "plt.ylim(-5,5)\n",
    "plt.xlabel('x')\n",
    "plt.ylabel('y')\n",
    "ax.axhline(y=0, color='k', lw='2')\n",
    "ax.axvline(x=0, color='k', lw='2')\n",
    "plt.plot(x, y)\n",
    "plt.show()\n"
   ]
  },
  {
   "cell_type": "markdown",
   "metadata": {},
   "source": []
  }
 ],
 "metadata": {
  "kernelspec": {
   "display_name": "Python 3",
   "language": "python",
   "name": "python3"
  },
  "language_info": {
   "codemirror_mode": {
    "name": "ipython",
    "version": 3
   },
   "file_extension": ".py",
   "mimetype": "text/x-python",
   "name": "python",
   "nbconvert_exporter": "python",
   "pygments_lexer": "ipython3",
   "version": "3.4.4"
  }
 },
 "nbformat": 4,
 "nbformat_minor": 0
}
