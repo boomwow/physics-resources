{
 "cells": [
  {
   "cell_type": "code",
   "execution_count": 1,
   "metadata": {
    "collapsed": false,
    "scrolled": true
   },
   "outputs": [],
   "source": [
    "%matplotlib inline"
   ]
  },
  {
   "cell_type": "markdown",
   "metadata": {},
   "source": [
    "# Vectors and Vector Addition"
   ]
  },
  {
   "cell_type": "markdown",
   "metadata": {},
   "source": [
    "As you might recall, a __vector__, loosely speaking, is a quantity that has both magnitude (length) and direction. Graphically speaking, it makes sense to represent vectors using arrows, as shown below."
   ]
  },
  {
   "cell_type": "code",
   "execution_count": 2,
   "metadata": {
    "collapsed": false
   },
   "outputs": [
    {
     "data": {
      "image/png": "[encoded data removed]",
      "text/plain": [
       "<matplotlib.figure.Figure at 0x10796cb70>"
      ]
     },
     "metadata": {},
     "output_type": "display_data"
    }
   ],
   "source": [
    "import numpy as np\n",
    "import matplotlib.pyplot as plt\n",
    "soa =np.array( [[0,0,3,2],[0,0,-4,3]]) \n",
    "X,Y,U,V = zip(*soa)\n",
    "plt.figure()\n",
    "ax = plt.gca()\n",
    "ax.set_aspect('equal')\n",
    "ax.quiver(X,Y,U,V, angles='xy',scale_units='xy',scale=1, color=['r','b'])\n",
    "ax.set_xlim([-5,4])\n",
    "ax.set_ylim([-1,4])\n",
    "ax.grid()\n",
    "plt.xlabel('x')\n",
    "plt.ylabel('y')\n",
    "plt.plot(0,0, 'ok')\n",
    "plt.draw()\n",
    "plt.show()"
   ]
  },
  {
   "cell_type": "markdown",
   "metadata": {},
   "source": [
    "We see here two vectors with different magnitudes and directions. How might we describe these vectors to someone else so they can reproduce them without seeing our picture?"
   ]
  },
  {
   "cell_type": "markdown",
   "metadata": {},
   "source": [
    "One way we might accomplish this is by describing each vector in terms of its _components_ in the x- and y- directions. This approach is convenient since it's very similar to the way in which we describe points on the plane.\n",
    "\n",
    "Let's start with the red vector. We could describe the red vector as being comprised of three units in the x-direction and two units in the y-direction. We can choose to write this as:\n",
    "\n",
    "$$ \\mathbf{\\vec{r}} = 3\\mathbf{\\hat{x}} + 2 \\mathbf{\\hat{y}}$$\n",
    "\n",
    "Where $\\mathbf{\\hat{x}}$ and $\\mathbf{\\hat{y}}$ represent units in the x- and y-directions, respectively."
   ]
  },
  {
   "cell_type": "markdown",
   "metadata": {},
   "source": [
    "Use this technique to describe the blue vector. &emsp;[Answer](#blue_vector_a)<a id='blue_vector_q'></a>"
   ]
  },
  {
   "cell_type": "markdown",
   "metadata": {},
   "source": [
    "Writing vectors in this form makes _adding_ vectors natural. If we think about vector addition as following a list of individual directions, not unlike those given from Google Maps, we can think of the vector sum as the vector connecting the start and finish of our trip."
   ]
  },
  {
   "cell_type": "code",
   "execution_count": 3,
   "metadata": {
    "collapsed": false
   },
   "outputs": [
    {
     "data": {
      "image/png": "[encoded data removed]",
      "text/plain": [
       "<matplotlib.figure.Figure at 0x107b1d898>"
      ]
     },
     "metadata": {},
     "output_type": "display_data"
    }
   ],
   "source": [
    "import numpy as np\n",
    "import matplotlib.pyplot as plt\n",
    "soa =np.array( [[0,0,3,2],[3, 2,-4,3], [0, 0, -1, 5]]) \n",
    "X,Y,U,V = zip(*soa)\n",
    "plt.figure()\n",
    "ax = plt.gca()\n",
    "ax.set_aspect('equal')\n",
    "ax.quiver(X,Y,U,V, angles='xy',scale_units='xy',scale=1, color=['r','b','g'])\n",
    "ax.set_xlim([-3,4])\n",
    "ax.set_ylim([-1,6])\n",
    "ax.text(1.5, .4, r'$\\vec{r}$', fontsize=20)\n",
    "ax.text(1, 3.6, r'$\\vec{b}$', fontsize=20)\n",
    "ax.text(-1.9, 2, r'$\\vec{r} + \\vec{b}$', fontsize=20)\n",
    "ax.grid()\n",
    "plt.xlabel('x')\n",
    "plt.ylabel('y')\n",
    "plt.plot(0,0, 'ok')\n",
    "plt.draw()\n",
    "plt.show()"
   ]
  },
  {
   "cell_type": "markdown",
   "metadata": {
    "collapsed": true
   },
   "source": [
    "Looking at this graph, you might wonder if changing the order of addition matters. Try repeating this vector addition, only this time starting with $\\mathbf{\\vec{b}}$. &emsp;[Answer](#graph_add_a)<a id='graph_add_q'></a>"
   ]
  },
  {
   "cell_type": "markdown",
   "metadata": {},
   "source": [
    "Did you notice in both cases, the sum $\\mathbf{\\vec{g}}$ was the same? Vector addition is __commutative__, just like scalar addition. Convenient!\n",
    "\n",
    "Now look carefully again at the picture. Notice that the vector sum: $$\\mathbf{\\vec{g}}=\\mathbf{\\vec{r}}+\\mathbf{\\vec{b}} = -1\\mathbf{\\hat{x}}+5\\mathbf{\\hat{y}}$$\n",
    "\n",
    "Is there a way of seeing this _without_ graphing? Let's add a few lines to the previous graph for clarity:"
   ]
  },
  {
   "cell_type": "code",
   "execution_count": 4,
   "metadata": {
    "collapsed": false
   },
   "outputs": [
    {
     "data": {
      "image/png": "[encoded data removed]",
      "text/plain": [
       "<matplotlib.figure.Figure at 0x108127f28>"
      ]
     },
     "metadata": {},
     "output_type": "display_data"
    }
   ],
   "source": [
    "import numpy as np\n",
    "import matplotlib.pyplot as plt\n",
    "soa =np.array( [[0,0,3,2],[3, 2,-4,3], [0, 0, -1, 5]]) \n",
    "X,Y,U,V = zip(*soa)\n",
    "plt.figure()\n",
    "ax = plt.gca()\n",
    "ax.set_aspect('equal')\n",
    "ax.quiver(X,Y,U,V, angles='xy',scale_units='xy',scale=1, color=['r','b','g'])\n",
    "ax.set_xlim([-3,4])\n",
    "ax.set_ylim([-1,6])\n",
    "ax.text(1.5, .4, r'$\\vec{r}$', fontsize=20)\n",
    "ax.text(1, 3.6, r'$\\vec{b}$', fontsize=20)\n",
    "ax.text(-2.5, 2, r'$\\vec{r} + \\vec{b}$', fontsize=20)\n",
    "ax.grid()\n",
    "plt.xlabel('x')\n",
    "plt.ylabel('y')\n",
    "plt.plot([0,3,3],[0,0,2], '--r')\n",
    "plt.plot([3,3,-1],[2,5,5], '--b')\n",
    "plt.plot([0,-1,-1],[0,0,5],'--g')\n",
    "plt.draw()\n",
    "plt.show()"
   ]
  },
  {
   "cell_type": "markdown",
   "metadata": {
    "collapsed": true
   },
   "source": [
    "In this graph, you see that each vector has its components shown using dotted lines. If we think of $\\mathbf{\\vec{r}}$ as 3 units to the right and 2 units up, and $\\mathbf{\\vec{b}}$ as 3 units up and 4 to the left, can't we think of the sum as any combination of these mini-trips? In other words, can't we describe the trip as 3 units to the right, 4 units to the left (for a total of 1 to the left), and 2 units up followed by 3 units up (for a total of 5 units up)? \n",
    "\n",
    "Algebraically, this might look like:"
   ]
  },
  {
   "cell_type": "code",
   "execution_count": 5,
   "metadata": {
    "collapsed": false
   },
   "outputs": [
    {
     "data": {
      "text/latex": [
       "\\begin{align}\n",
       "&\\mathbf{\\vec{r}} &&=& 3 \\mathbf{\\hat{x}} + 2 \\mathbf{\\hat{y}} \\\\\n",
       "&\\mathbf{\\vec{b}} &&=& -4 \\mathbf{\\hat{x}} + 3 \\mathbf{\\hat{y}} \\\\\n",
       "\\hline\n",
       "&\\mathbf{\\vec{r}}+\\mathbf{\\vec{b}} &&=& -1 \\mathbf{\\hat{x}} + 5 \\mathbf{\\hat{y}}\n",
       "\\end{align}"
      ],
      "text/plain": [
       "<IPython.core.display.Latex object>"
      ]
     },
     "metadata": {},
     "output_type": "display_data"
    }
   ],
   "source": [
    "%%latex\n",
    "\\begin{align}\n",
    "&\\mathbf{\\vec{r}} &&=& 3 \\mathbf{\\hat{x}} + 2 \\mathbf{\\hat{y}} \\\\\n",
    "&\\mathbf{\\vec{b}} &&=& -4 \\mathbf{\\hat{x}} + 3 \\mathbf{\\hat{y}} \\\\\n",
    "\\hline\n",
    "&\\mathbf{\\vec{r}}+\\mathbf{\\vec{b}} &&=& -1 \\mathbf{\\hat{x}} + 5 \\mathbf{\\hat{y}}\n",
    "\\end{align}"
   ]
  },
  {
   "cell_type": "markdown",
   "metadata": {},
   "source": [
    "<a id='blue_vector_a'></a>"
   ]
  },
  {
   "cell_type": "markdown",
   "metadata": {},
   "source": [
    "__Blue Vector Solution:__\n",
    "\n",
    "$\\mathbf{\\vec{b}}=-4 \\mathbf{\\hat{x}} + 3 \\mathbf{\\hat{y}}$&emsp;[Back](#blue_vector_q)"
   ]
  },
  {
   "cell_type": "markdown",
   "metadata": {},
   "source": [
    "<a id=\"graph_add_a\"></a>"
   ]
  },
  {
   "cell_type": "markdown",
   "metadata": {},
   "source": [
    "__Graphical Addition Solution:__"
   ]
  },
  {
   "cell_type": "code",
   "execution_count": 6,
   "metadata": {
    "collapsed": false
   },
   "outputs": [
    {
     "data": {
      "image/png": "[encoded data removed]",
      "text/plain": [
       "<matplotlib.figure.Figure at 0x107d65438>"
      ]
     },
     "metadata": {},
     "output_type": "display_data"
    }
   ],
   "source": [
    "import numpy as np\n",
    "import matplotlib.pyplot as plt\n",
    "soa =np.array( [[0,0,-4,3],[-4, 3,3,2], [0, 0, -1, 5]]) \n",
    "X,Y,U,V = zip(*soa)\n",
    "plt.figure()\n",
    "ax = plt.gca()\n",
    "ax.set_aspect('equal')\n",
    "ax.quiver(X,Y,U,V, angles='xy',scale_units='xy',scale=1, color=['b','r','g'])\n",
    "ax.set_xlim([-5,2])\n",
    "ax.set_ylim([-1,6])\n",
    "ax.text(-3, 4.1, r'$\\vec{r}$', fontsize=20)\n",
    "ax.text(-2.7, .8, r'$\\vec{b}$', fontsize=20)\n",
    "ax.text(0, 2.5, r'$\\vec{r} + \\vec{b}$', fontsize=20)\n",
    "ax.grid()\n",
    "plt.xlabel('x')\n",
    "plt.ylabel('y')\n",
    "plt.plot(0,0, 'ok')\n",
    "plt.draw()\n",
    "plt.show()"
   ]
  },
  {
   "cell_type": "markdown",
   "metadata": {},
   "source": [
    "[Back](#graph_add_q)"
   ]
  },
  {
   "cell_type": "code",
   "execution_count": null,
   "metadata": {
    "collapsed": true
   },
   "outputs": [],
   "source": []
  }
 ],
 "metadata": {
  "hide_input": true,
  "kernelspec": {
   "display_name": "Python 3",
   "language": "python",
   "name": "python3"
  },
  "language_info": {
   "codemirror_mode": {
    "name": "ipython",
    "version": 3
   },
   "file_extension": ".py",
   "mimetype": "text/x-python",
   "name": "python",
   "nbconvert_exporter": "python",
   "pygments_lexer": "ipython3",
   "version": "3.5.1"
  }
 },
 "nbformat": 4,
 "nbformat_minor": 0
}
